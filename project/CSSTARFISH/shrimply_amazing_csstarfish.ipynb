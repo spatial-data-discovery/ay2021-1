{
  "nbformat": 4,
  "nbformat_minor": 0,
  "metadata": {
    "kernelspec": {
      "display_name": "Python 3",
      "language": "python",
      "name": "python3"
    },
    "language_info": {
      "codemirror_mode": {
        "name": "ipython",
        "version": 3
      },
      "file_extension": ".py",
      "mimetype": "text/x-python",
      "name": "python",
      "nbconvert_exporter": "python",
      "pygments_lexer": "ipython3",
      "version": "3.8.6"
    },
    "colab": {
      "name": "shrimply_amazing-csstarfish.ipynb",
      "provenance": [],
      "collapsed_sections": [],
      "toc_visible": true
    }
  },
  "cells": [
    {
      "cell_type": "markdown",
      "metadata": {
        "id": "LyhJdJ6cY-y5"
      },
      "source": [
        "# \"Shrimp\"-ly Amazing"
      ]
    },
    {
      "cell_type": "markdown",
      "metadata": {
        "id": "Q8TZfT3qY-y5"
      },
      "source": [
        "#### Final Project Script - Reads data from a CSV file and processes the data into a DataFrame.  It then outputs the DataFrame into a new, filtered CSV file.  Next, it converts this same CSV file into a GeoDataFrame and produces visualizations."
      ]
    },
    {
      "cell_type": "markdown",
      "metadata": {
        "id": "05wY1zqtY-y5"
      },
      "source": [
        "##### Author: Caroline Freshcorn\n",
        "##### Date (Last Updated): 2020-11-20"
      ]
    },
    {
      "cell_type": "code",
      "metadata": {
        "colab": {
          "base_uri": "https://localhost:8080/"
        },
        "id": "TNFvGN_dY-y5",
        "outputId": "fe18c171-b945-49e8-facf-e01b18389bf5"
      },
      "source": [
        "!pip install geopandas"
      ],
      "execution_count": 1,
      "outputs": [
        {
          "output_type": "stream",
          "text": [
            "Collecting geopandas\n",
            "\u001b[?25l  Downloading https://files.pythonhosted.org/packages/f7/a4/e66aafbefcbb717813bf3a355c8c4fc3ed04ea1dd7feb2920f2f4f868921/geopandas-0.8.1-py2.py3-none-any.whl (962kB)\n",
            "\u001b[K     |████████████████████████████████| 972kB 4.3MB/s \n",
            "\u001b[?25hCollecting pyproj>=2.2.0\n",
            "\u001b[?25l  Downloading https://files.pythonhosted.org/packages/e4/ab/280e80a67cfc109d15428c0ec56391fc03a65857b7727cf4e6e6f99a4204/pyproj-3.0.0.post1-cp36-cp36m-manylinux2010_x86_64.whl (6.4MB)\n",
            "\u001b[K     |████████████████████████████████| 6.5MB 12.0MB/s \n",
            "\u001b[?25hCollecting fiona\n",
            "\u001b[?25l  Downloading https://files.pythonhosted.org/packages/37/94/4910fd55246c1d963727b03885ead6ef1cd3748a465f7b0239ab25dfc9a3/Fiona-1.8.18-cp36-cp36m-manylinux1_x86_64.whl (14.8MB)\n",
            "\u001b[K     |████████████████████████████████| 14.8MB 240kB/s \n",
            "\u001b[?25hRequirement already satisfied: shapely in /usr/local/lib/python3.6/dist-packages (from geopandas) (1.7.1)\n",
            "Requirement already satisfied: pandas>=0.23.0 in /usr/local/lib/python3.6/dist-packages (from geopandas) (1.1.4)\n",
            "Requirement already satisfied: certifi in /usr/local/lib/python3.6/dist-packages (from pyproj>=2.2.0->geopandas) (2020.6.20)\n",
            "Requirement already satisfied: attrs>=17 in /usr/local/lib/python3.6/dist-packages (from fiona->geopandas) (20.2.0)\n",
            "Collecting click-plugins>=1.0\n",
            "  Downloading https://files.pythonhosted.org/packages/e9/da/824b92d9942f4e472702488857914bdd50f73021efea15b4cad9aca8ecef/click_plugins-1.1.1-py2.py3-none-any.whl\n",
            "Collecting cligj>=0.5\n",
            "  Downloading https://files.pythonhosted.org/packages/42/1e/947eadf10d6804bf276eb8a038bd5307996dceaaa41cfd21b7a15ec62f5d/cligj-0.7.1-py3-none-any.whl\n",
            "Collecting munch\n",
            "  Downloading https://files.pythonhosted.org/packages/cc/ab/85d8da5c9a45e072301beb37ad7f833cd344e04c817d97e0cc75681d248f/munch-2.5.0-py2.py3-none-any.whl\n",
            "Requirement already satisfied: six>=1.7 in /usr/local/lib/python3.6/dist-packages (from fiona->geopandas) (1.15.0)\n",
            "Requirement already satisfied: click<8,>=4.0 in /usr/local/lib/python3.6/dist-packages (from fiona->geopandas) (7.1.2)\n",
            "Requirement already satisfied: python-dateutil>=2.7.3 in /usr/local/lib/python3.6/dist-packages (from pandas>=0.23.0->geopandas) (2.8.1)\n",
            "Requirement already satisfied: pytz>=2017.2 in /usr/local/lib/python3.6/dist-packages (from pandas>=0.23.0->geopandas) (2018.9)\n",
            "Requirement already satisfied: numpy>=1.15.4 in /usr/local/lib/python3.6/dist-packages (from pandas>=0.23.0->geopandas) (1.18.5)\n",
            "Installing collected packages: pyproj, click-plugins, cligj, munch, fiona, geopandas\n",
            "Successfully installed click-plugins-1.1.1 cligj-0.7.1 fiona-1.8.18 geopandas-0.8.1 munch-2.5.0 pyproj-3.0.0.post1\n"
          ],
          "name": "stdout"
        }
      ]
    },
    {
      "cell_type": "code",
      "metadata": {
        "id": "iIwudWWUY-y6"
      },
      "source": [
        "import geopandas as gpd\n",
        "from shapely.geometry import Point\n",
        "\n",
        "import os\n",
        "import os.path\n",
        "\n",
        "import pandas as pd\n",
        "import matplotlib.pyplot as plt"
      ],
      "execution_count": 2,
      "outputs": []
    },
    {
      "cell_type": "code",
      "metadata": {
        "colab": {
          "base_uri": "https://localhost:8080/"
        },
        "id": "NxON6UplY-y6",
        "outputId": "56d814b7-160f-461b-f413-267ddf941232"
      },
      "source": [
        "# Set file path.\n",
        "path_input = input(\"Please enter the file path, \"\n",
        "                   \"including the name of the .csv file: \"\n",
        "                  )\n",
        "file_path = path_input"
      ],
      "execution_count": 3,
      "outputs": [
        {
          "output_type": "stream",
          "text": [
            "Please enter the file path, including the name of the .csv file: /content/datadownload.csv\n"
          ],
          "name": "stdout"
        }
      ]
    },
    {
      "cell_type": "code",
      "metadata": {
        "id": "Yqt6jnRUY-y6"
      },
      "source": [
        "# Open raw CSV dataset and convert to DataFrame.\n",
        "df = pd.read_csv(file_path)\n",
        "location_data = df.copy()"
      ],
      "execution_count": 4,
      "outputs": []
    },
    {
      "cell_type": "code",
      "metadata": {
        "colab": {
          "base_uri": "https://localhost:8080/",
          "height": 415
        },
        "id": "DviPBXKsY-y6",
        "outputId": "6be553da-3336-4dc3-b2d9-910a7bf56a5d"
      },
      "source": [
        "# Preview the DataFrame.\n",
        "location_data"
      ],
      "execution_count": 5,
      "outputs": [
        {
          "output_type": "execute_result",
          "data": {
            "text/html": [
              "<div>\n",
              "<style scoped>\n",
              "    .dataframe tbody tr th:only-of-type {\n",
              "        vertical-align: middle;\n",
              "    }\n",
              "\n",
              "    .dataframe tbody tr th {\n",
              "        vertical-align: top;\n",
              "    }\n",
              "\n",
              "    .dataframe thead th {\n",
              "        text-align: right;\n",
              "    }\n",
              "</style>\n",
              "<table border=\"1\" class=\"dataframe\">\n",
              "  <thead>\n",
              "    <tr style=\"text-align: right;\">\n",
              "      <th></th>\n",
              "      <th>Year</th>\n",
              "      <th>Region</th>\n",
              "      <th>Species</th>\n",
              "      <th>Latitude</th>\n",
              "      <th>Latitude_std_err</th>\n",
              "      <th>Longitude</th>\n",
              "      <th>Longitude_std_err</th>\n",
              "    </tr>\n",
              "  </thead>\n",
              "  <tbody>\n",
              "    <tr>\n",
              "      <th>0</th>\n",
              "      <td>1970</td>\n",
              "      <td>Scotian Shelf</td>\n",
              "      <td>ALL</td>\n",
              "      <td>0.000000</td>\n",
              "      <td>0.000000</td>\n",
              "      <td>0.000000</td>\n",
              "      <td>0.000000</td>\n",
              "    </tr>\n",
              "    <tr>\n",
              "      <th>1</th>\n",
              "      <td>1970</td>\n",
              "      <td>Scotian Shelf</td>\n",
              "      <td>Alosa pseudoharengus</td>\n",
              "      <td>43.569235</td>\n",
              "      <td>0.000000</td>\n",
              "      <td>-66.898432</td>\n",
              "      <td>0.000000</td>\n",
              "    </tr>\n",
              "    <tr>\n",
              "      <th>2</th>\n",
              "      <td>1970</td>\n",
              "      <td>Scotian Shelf</td>\n",
              "      <td>Amblyraja radiata</td>\n",
              "      <td>44.509685</td>\n",
              "      <td>0.112841</td>\n",
              "      <td>-60.533022</td>\n",
              "      <td>0.447286</td>\n",
              "    </tr>\n",
              "    <tr>\n",
              "      <th>3</th>\n",
              "      <td>1970</td>\n",
              "      <td>Scotian Shelf</td>\n",
              "      <td>Ammodytes dubius</td>\n",
              "      <td>44.137920</td>\n",
              "      <td>0.004390</td>\n",
              "      <td>-60.516954</td>\n",
              "      <td>0.044082</td>\n",
              "    </tr>\n",
              "    <tr>\n",
              "      <th>4</th>\n",
              "      <td>1970</td>\n",
              "      <td>Scotian Shelf</td>\n",
              "      <td>Anarhichas lupus</td>\n",
              "      <td>44.213237</td>\n",
              "      <td>0.155695</td>\n",
              "      <td>-62.552607</td>\n",
              "      <td>0.419857</td>\n",
              "    </tr>\n",
              "    <tr>\n",
              "      <th>...</th>\n",
              "      <td>...</td>\n",
              "      <td>...</td>\n",
              "      <td>...</td>\n",
              "      <td>...</td>\n",
              "      <td>...</td>\n",
              "      <td>...</td>\n",
              "      <td>...</td>\n",
              "    </tr>\n",
              "    <tr>\n",
              "      <th>37569</th>\n",
              "      <td>2019</td>\n",
              "      <td>Northeast US Spring</td>\n",
              "      <td>Urophycis regia</td>\n",
              "      <td>38.483291</td>\n",
              "      <td>0.225908</td>\n",
              "      <td>-73.145709</td>\n",
              "      <td>0.233768</td>\n",
              "    </tr>\n",
              "    <tr>\n",
              "      <th>37570</th>\n",
              "      <td>2019</td>\n",
              "      <td>Northeast US Spring</td>\n",
              "      <td>Urophycis tenuis</td>\n",
              "      <td>42.937164</td>\n",
              "      <td>0.118018</td>\n",
              "      <td>-67.904944</td>\n",
              "      <td>0.168514</td>\n",
              "    </tr>\n",
              "    <tr>\n",
              "      <th>37571</th>\n",
              "      <td>2019</td>\n",
              "      <td>Northeast US Spring</td>\n",
              "      <td>Zenopsis conchifer</td>\n",
              "      <td>39.478279</td>\n",
              "      <td>0.356023</td>\n",
              "      <td>-71.276297</td>\n",
              "      <td>0.942053</td>\n",
              "    </tr>\n",
              "    <tr>\n",
              "      <th>37572</th>\n",
              "      <td>2019</td>\n",
              "      <td>Northeast US Spring</td>\n",
              "      <td>Zoarces americanus</td>\n",
              "      <td>41.689038</td>\n",
              "      <td>0.152838</td>\n",
              "      <td>-69.217526</td>\n",
              "      <td>0.294161</td>\n",
              "    </tr>\n",
              "    <tr>\n",
              "      <th>37573</th>\n",
              "      <td>2019</td>\n",
              "      <td>Northeast US Spring</td>\n",
              "      <td>NaN</td>\n",
              "      <td>42.157872</td>\n",
              "      <td>0.165124</td>\n",
              "      <td>-68.439328</td>\n",
              "      <td>0.253816</td>\n",
              "    </tr>\n",
              "  </tbody>\n",
              "</table>\n",
              "<p>37574 rows × 7 columns</p>\n",
              "</div>"
            ],
            "text/plain": [
              "       Year               Region  ...  Longitude  Longitude_std_err\n",
              "0      1970        Scotian Shelf  ...   0.000000           0.000000\n",
              "1      1970        Scotian Shelf  ... -66.898432           0.000000\n",
              "2      1970        Scotian Shelf  ... -60.533022           0.447286\n",
              "3      1970        Scotian Shelf  ... -60.516954           0.044082\n",
              "4      1970        Scotian Shelf  ... -62.552607           0.419857\n",
              "...     ...                  ...  ...        ...                ...\n",
              "37569  2019  Northeast US Spring  ... -73.145709           0.233768\n",
              "37570  2019  Northeast US Spring  ... -67.904944           0.168514\n",
              "37571  2019  Northeast US Spring  ... -71.276297           0.942053\n",
              "37572  2019  Northeast US Spring  ... -69.217526           0.294161\n",
              "37573  2019  Northeast US Spring  ... -68.439328           0.253816\n",
              "\n",
              "[37574 rows x 7 columns]"
            ]
          },
          "metadata": {
            "tags": []
          },
          "execution_count": 5
        }
      ]
    },
    {
      "cell_type": "code",
      "metadata": {
        "id": "rYUKJ6DUY-y6"
      },
      "source": [
        "# Drop null values and first row containing not applicable data.\n",
        "location_data = location_data.dropna()\n",
        "location_data = location_data[1:]"
      ],
      "execution_count": 6,
      "outputs": []
    },
    {
      "cell_type": "code",
      "metadata": {
        "colab": {
          "base_uri": "https://localhost:8080/",
          "height": 415
        },
        "id": "Dq6kkFu_Y-y6",
        "outputId": "ac5947bd-436c-49a9-c08e-3d51313c90ad"
      },
      "source": [
        "# Check everything was deleted properly.\n",
        "location_data"
      ],
      "execution_count": 7,
      "outputs": [
        {
          "output_type": "execute_result",
          "data": {
            "text/html": [
              "<div>\n",
              "<style scoped>\n",
              "    .dataframe tbody tr th:only-of-type {\n",
              "        vertical-align: middle;\n",
              "    }\n",
              "\n",
              "    .dataframe tbody tr th {\n",
              "        vertical-align: top;\n",
              "    }\n",
              "\n",
              "    .dataframe thead th {\n",
              "        text-align: right;\n",
              "    }\n",
              "</style>\n",
              "<table border=\"1\" class=\"dataframe\">\n",
              "  <thead>\n",
              "    <tr style=\"text-align: right;\">\n",
              "      <th></th>\n",
              "      <th>Year</th>\n",
              "      <th>Region</th>\n",
              "      <th>Species</th>\n",
              "      <th>Latitude</th>\n",
              "      <th>Latitude_std_err</th>\n",
              "      <th>Longitude</th>\n",
              "      <th>Longitude_std_err</th>\n",
              "    </tr>\n",
              "  </thead>\n",
              "  <tbody>\n",
              "    <tr>\n",
              "      <th>1</th>\n",
              "      <td>1970</td>\n",
              "      <td>Scotian Shelf</td>\n",
              "      <td>Alosa pseudoharengus</td>\n",
              "      <td>43.569235</td>\n",
              "      <td>0.000000</td>\n",
              "      <td>-66.898432</td>\n",
              "      <td>0.000000</td>\n",
              "    </tr>\n",
              "    <tr>\n",
              "      <th>2</th>\n",
              "      <td>1970</td>\n",
              "      <td>Scotian Shelf</td>\n",
              "      <td>Amblyraja radiata</td>\n",
              "      <td>44.509685</td>\n",
              "      <td>0.112841</td>\n",
              "      <td>-60.533022</td>\n",
              "      <td>0.447286</td>\n",
              "    </tr>\n",
              "    <tr>\n",
              "      <th>3</th>\n",
              "      <td>1970</td>\n",
              "      <td>Scotian Shelf</td>\n",
              "      <td>Ammodytes dubius</td>\n",
              "      <td>44.137920</td>\n",
              "      <td>0.004390</td>\n",
              "      <td>-60.516954</td>\n",
              "      <td>0.044082</td>\n",
              "    </tr>\n",
              "    <tr>\n",
              "      <th>4</th>\n",
              "      <td>1970</td>\n",
              "      <td>Scotian Shelf</td>\n",
              "      <td>Anarhichas lupus</td>\n",
              "      <td>44.213237</td>\n",
              "      <td>0.155695</td>\n",
              "      <td>-62.552607</td>\n",
              "      <td>0.419857</td>\n",
              "    </tr>\n",
              "    <tr>\n",
              "      <th>5</th>\n",
              "      <td>1970</td>\n",
              "      <td>Scotian Shelf</td>\n",
              "      <td>Argentina silus</td>\n",
              "      <td>42.752972</td>\n",
              "      <td>0.055061</td>\n",
              "      <td>-65.727570</td>\n",
              "      <td>0.268712</td>\n",
              "    </tr>\n",
              "    <tr>\n",
              "      <th>...</th>\n",
              "      <td>...</td>\n",
              "      <td>...</td>\n",
              "      <td>...</td>\n",
              "      <td>...</td>\n",
              "      <td>...</td>\n",
              "      <td>...</td>\n",
              "      <td>...</td>\n",
              "    </tr>\n",
              "    <tr>\n",
              "      <th>37568</th>\n",
              "      <td>2019</td>\n",
              "      <td>Northeast US Spring</td>\n",
              "      <td>Urophycis chuss</td>\n",
              "      <td>42.165761</td>\n",
              "      <td>0.158953</td>\n",
              "      <td>-68.787590</td>\n",
              "      <td>0.224457</td>\n",
              "    </tr>\n",
              "    <tr>\n",
              "      <th>37569</th>\n",
              "      <td>2019</td>\n",
              "      <td>Northeast US Spring</td>\n",
              "      <td>Urophycis regia</td>\n",
              "      <td>38.483291</td>\n",
              "      <td>0.225908</td>\n",
              "      <td>-73.145709</td>\n",
              "      <td>0.233768</td>\n",
              "    </tr>\n",
              "    <tr>\n",
              "      <th>37570</th>\n",
              "      <td>2019</td>\n",
              "      <td>Northeast US Spring</td>\n",
              "      <td>Urophycis tenuis</td>\n",
              "      <td>42.937164</td>\n",
              "      <td>0.118018</td>\n",
              "      <td>-67.904944</td>\n",
              "      <td>0.168514</td>\n",
              "    </tr>\n",
              "    <tr>\n",
              "      <th>37571</th>\n",
              "      <td>2019</td>\n",
              "      <td>Northeast US Spring</td>\n",
              "      <td>Zenopsis conchifer</td>\n",
              "      <td>39.478279</td>\n",
              "      <td>0.356023</td>\n",
              "      <td>-71.276297</td>\n",
              "      <td>0.942053</td>\n",
              "    </tr>\n",
              "    <tr>\n",
              "      <th>37572</th>\n",
              "      <td>2019</td>\n",
              "      <td>Northeast US Spring</td>\n",
              "      <td>Zoarces americanus</td>\n",
              "      <td>41.689038</td>\n",
              "      <td>0.152838</td>\n",
              "      <td>-69.217526</td>\n",
              "      <td>0.294161</td>\n",
              "    </tr>\n",
              "  </tbody>\n",
              "</table>\n",
              "<p>34732 rows × 7 columns</p>\n",
              "</div>"
            ],
            "text/plain": [
              "       Year               Region  ...  Longitude  Longitude_std_err\n",
              "1      1970        Scotian Shelf  ... -66.898432           0.000000\n",
              "2      1970        Scotian Shelf  ... -60.533022           0.447286\n",
              "3      1970        Scotian Shelf  ... -60.516954           0.044082\n",
              "4      1970        Scotian Shelf  ... -62.552607           0.419857\n",
              "5      1970        Scotian Shelf  ... -65.727570           0.268712\n",
              "...     ...                  ...  ...        ...                ...\n",
              "37568  2019  Northeast US Spring  ... -68.787590           0.224457\n",
              "37569  2019  Northeast US Spring  ... -73.145709           0.233768\n",
              "37570  2019  Northeast US Spring  ... -67.904944           0.168514\n",
              "37571  2019  Northeast US Spring  ... -71.276297           0.942053\n",
              "37572  2019  Northeast US Spring  ... -69.217526           0.294161\n",
              "\n",
              "[34732 rows x 7 columns]"
            ]
          },
          "metadata": {
            "tags": []
          },
          "execution_count": 7
        }
      ]
    },
    {
      "cell_type": "code",
      "metadata": {
        "id": "kb97tAVcY-y6"
      },
      "source": [
        "# Extract rows pertaining only to species of shrimp.\n",
        "shrimp_species = [\n",
        "                  \"Argis lar\", \n",
        "                  \"Argis spp.\", \n",
        "                  \"Bryozoa spp.\", \n",
        "                  \"Chilomycterus schoepfii\", \n",
        "                  \"Crangon Communis\", \n",
        "                  \"Crangon spp.\", \n",
        "                  \"Litopenaeus setiferus\", \n",
        "                  \"Mesopenaeus tropicalis\", \n",
        "                  \"Metapenaeopsis goodei\", \n",
        "                  \"Pandalopsis dispar\", \n",
        "                  \"Pandalus eous\", \n",
        "                  \"Pandalus goniurus\", \n",
        "                  \"Pandalus hypsinotus\", \n",
        "                  \"Pandalus jordani\", \n",
        "                  \"Pandalus platyceros\", \n",
        "                  \"Pandalus spp.\", \n",
        "                  \"Parapenaeus politus\", \n",
        "                  \"Pasiphaea pacifica\", \n",
        "                  \"Penaeus aztecus\", \n",
        "                  \"Penaeus duorarum\", \n",
        "                  \"Sclerocrangon boreas\", \n",
        "                  \"Sergestes similis\", \n",
        "                  \"Sicyonia brevirostris\", \n",
        "                  \"Sicyonia burkenroadi\", \n",
        "                  \"Sicyonia dorsalis\", \n",
        "                  \"Solenocera spp.\", \n",
        "                  \"Squilla chydaea\", \n",
        "                  \"Squilla empusa\", \n",
        "                  \"Trachypeneus spp.\"\n",
        "                 ]"
      ],
      "execution_count": 8,
      "outputs": []
    },
    {
      "cell_type": "code",
      "metadata": {
        "id": "Ler07_YrY-y6"
      },
      "source": [
        "# Extract shrimp data entries.\n",
        "matching_species = location_data.Species.isin(shrimp_species)\n",
        "shrimp_filtered = location_data[matching_species]"
      ],
      "execution_count": 9,
      "outputs": []
    },
    {
      "cell_type": "code",
      "metadata": {
        "id": "coOuyAZ8Y-y6"
      },
      "source": [
        "# Restrict attributes to time series and location.\n",
        "shrimp_filtered = shrimp_filtered[[\"Year\", \"Latitude\", \"Longitude\"]]\n",
        "shrimp_filtered = shrimp_filtered.reset_index(drop=True)"
      ],
      "execution_count": 10,
      "outputs": []
    },
    {
      "cell_type": "code",
      "metadata": {
        "colab": {
          "base_uri": "https://localhost:8080/",
          "height": 415
        },
        "id": "iawiNZbSY-y6",
        "outputId": "f3795eaf-300b-4a90-c690-a8bd49ea75de"
      },
      "source": [
        "# Preview new filtered DataFrame.\n",
        "shrimp_filtered"
      ],
      "execution_count": 11,
      "outputs": [
        {
          "output_type": "execute_result",
          "data": {
            "text/html": [
              "<div>\n",
              "<style scoped>\n",
              "    .dataframe tbody tr th:only-of-type {\n",
              "        vertical-align: middle;\n",
              "    }\n",
              "\n",
              "    .dataframe tbody tr th {\n",
              "        vertical-align: top;\n",
              "    }\n",
              "\n",
              "    .dataframe thead th {\n",
              "        text-align: right;\n",
              "    }\n",
              "</style>\n",
              "<table border=\"1\" class=\"dataframe\">\n",
              "  <thead>\n",
              "    <tr style=\"text-align: right;\">\n",
              "      <th></th>\n",
              "      <th>Year</th>\n",
              "      <th>Latitude</th>\n",
              "      <th>Longitude</th>\n",
              "    </tr>\n",
              "  </thead>\n",
              "  <tbody>\n",
              "    <tr>\n",
              "      <th>0</th>\n",
              "      <td>1977</td>\n",
              "      <td>44.622069</td>\n",
              "      <td>-124.586271</td>\n",
              "    </tr>\n",
              "    <tr>\n",
              "      <th>1</th>\n",
              "      <td>1977</td>\n",
              "      <td>44.350098</td>\n",
              "      <td>-124.617399</td>\n",
              "    </tr>\n",
              "    <tr>\n",
              "      <th>2</th>\n",
              "      <td>1977</td>\n",
              "      <td>41.141669</td>\n",
              "      <td>-124.022447</td>\n",
              "    </tr>\n",
              "    <tr>\n",
              "      <th>3</th>\n",
              "      <td>1980</td>\n",
              "      <td>47.587431</td>\n",
              "      <td>-125.037137</td>\n",
              "    </tr>\n",
              "    <tr>\n",
              "      <th>4</th>\n",
              "      <td>1982</td>\n",
              "      <td>57.799354</td>\n",
              "      <td>-163.730971</td>\n",
              "    </tr>\n",
              "    <tr>\n",
              "      <th>...</th>\n",
              "      <td>...</td>\n",
              "      <td>...</td>\n",
              "      <td>...</td>\n",
              "    </tr>\n",
              "    <tr>\n",
              "      <th>887</th>\n",
              "      <td>2019</td>\n",
              "      <td>29.090959</td>\n",
              "      <td>-89.928955</td>\n",
              "    </tr>\n",
              "    <tr>\n",
              "      <th>888</th>\n",
              "      <td>2019</td>\n",
              "      <td>28.205080</td>\n",
              "      <td>-83.899027</td>\n",
              "    </tr>\n",
              "    <tr>\n",
              "      <th>889</th>\n",
              "      <td>2019</td>\n",
              "      <td>28.358133</td>\n",
              "      <td>-84.174052</td>\n",
              "    </tr>\n",
              "    <tr>\n",
              "      <th>890</th>\n",
              "      <td>2019</td>\n",
              "      <td>27.856871</td>\n",
              "      <td>-83.679907</td>\n",
              "    </tr>\n",
              "    <tr>\n",
              "      <th>891</th>\n",
              "      <td>2019</td>\n",
              "      <td>28.004266</td>\n",
              "      <td>-86.850767</td>\n",
              "    </tr>\n",
              "  </tbody>\n",
              "</table>\n",
              "<p>892 rows × 3 columns</p>\n",
              "</div>"
            ],
            "text/plain": [
              "     Year   Latitude   Longitude\n",
              "0    1977  44.622069 -124.586271\n",
              "1    1977  44.350098 -124.617399\n",
              "2    1977  41.141669 -124.022447\n",
              "3    1980  47.587431 -125.037137\n",
              "4    1982  57.799354 -163.730971\n",
              "..    ...        ...         ...\n",
              "887  2019  29.090959  -89.928955\n",
              "888  2019  28.205080  -83.899027\n",
              "889  2019  28.358133  -84.174052\n",
              "890  2019  27.856871  -83.679907\n",
              "891  2019  28.004266  -86.850767\n",
              "\n",
              "[892 rows x 3 columns]"
            ]
          },
          "metadata": {
            "tags": []
          },
          "execution_count": 11
        }
      ]
    },
    {
      "cell_type": "code",
      "metadata": {
        "id": "HjJ90kKjY-y7"
      },
      "source": [
        "# Save new CSV file with just this filtered data.\n",
        "shrimp_filtered.to_csv(\"cleaned_shrimpdata.csv\")"
      ],
      "execution_count": 12,
      "outputs": []
    },
    {
      "cell_type": "code",
      "metadata": {
        "colab": {
          "base_uri": "https://localhost:8080/"
        },
        "id": "UjwAM2z2Y-y7",
        "outputId": "ad025aed-8fc6-49ad-9a49-96dd51a349d8"
      },
      "source": [
        "# Begin processing this new CSV dataset for a GeoDataFrame.\n",
        "gpd_location_data = gpd.read_file(\"cleaned_shrimpdata.csv\")\n",
        "gpd_location_data = gpd_location_data.drop(columns = [\"field_1\"])"
      ],
      "execution_count": 16,
      "outputs": [
        {
          "output_type": "stream",
          "text": [
            "/usr/local/lib/python3.6/dist-packages/geopandas/geodataframe.py:422: RuntimeWarning: Sequential read of iterator was interrupted. Resetting iterator. This can negatively impact the performance.\n",
            "  for feature in features_lst:\n"
          ],
          "name": "stderr"
        }
      ]
    },
    {
      "cell_type": "code",
      "metadata": {
        "id": "DdeHFp38Y-y7"
      },
      "source": [
        "# Insert coordinates into GeoDataFrame's geometry column from longitude and latitude of CSV file.\n",
        "gpd_location_data['geometry'] = gpd_location_data.apply(lambda x: Point(float(x.Longitude), float(x.Latitude)), axis=1)"
      ],
      "execution_count": 17,
      "outputs": []
    },
    {
      "cell_type": "code",
      "metadata": {
        "id": "RV2fwlDHY-y7"
      },
      "source": [
        "# Create the GeoDataFrame.\n",
        "shrimp_info = gpd.GeoDataFrame(gpd_location_data, geometry=gpd_location_data.geometry)"
      ],
      "execution_count": 18,
      "outputs": []
    },
    {
      "cell_type": "code",
      "metadata": {
        "colab": {
          "base_uri": "https://localhost:8080/",
          "height": 415
        },
        "id": "QRlT1rItZtfR",
        "outputId": "3127be24-afcf-4467-91e0-1baa1593f45c"
      },
      "source": [
        "# View GeoDataFrame.\n",
        "shrimp_info"
      ],
      "execution_count": 20,
      "outputs": [
        {
          "output_type": "execute_result",
          "data": {
            "text/html": [
              "<div>\n",
              "<style scoped>\n",
              "    .dataframe tbody tr th:only-of-type {\n",
              "        vertical-align: middle;\n",
              "    }\n",
              "\n",
              "    .dataframe tbody tr th {\n",
              "        vertical-align: top;\n",
              "    }\n",
              "\n",
              "    .dataframe thead th {\n",
              "        text-align: right;\n",
              "    }\n",
              "</style>\n",
              "<table border=\"1\" class=\"dataframe\">\n",
              "  <thead>\n",
              "    <tr style=\"text-align: right;\">\n",
              "      <th></th>\n",
              "      <th>Year</th>\n",
              "      <th>Latitude</th>\n",
              "      <th>Longitude</th>\n",
              "      <th>geometry</th>\n",
              "    </tr>\n",
              "  </thead>\n",
              "  <tbody>\n",
              "    <tr>\n",
              "      <th>0</th>\n",
              "      <td>1977</td>\n",
              "      <td>44.62206921</td>\n",
              "      <td>-124.58627140000002</td>\n",
              "      <td>POINT (-124.58627 44.62207)</td>\n",
              "    </tr>\n",
              "    <tr>\n",
              "      <th>1</th>\n",
              "      <td>1977</td>\n",
              "      <td>44.35009805</td>\n",
              "      <td>-124.61739909999999</td>\n",
              "      <td>POINT (-124.61740 44.35010)</td>\n",
              "    </tr>\n",
              "    <tr>\n",
              "      <th>2</th>\n",
              "      <td>1977</td>\n",
              "      <td>41.14166904</td>\n",
              "      <td>-124.02244679999998</td>\n",
              "      <td>POINT (-124.02245 41.14167)</td>\n",
              "    </tr>\n",
              "    <tr>\n",
              "      <th>3</th>\n",
              "      <td>1980</td>\n",
              "      <td>47.58743088</td>\n",
              "      <td>-125.03713729999998</td>\n",
              "      <td>POINT (-125.03714 47.58743)</td>\n",
              "    </tr>\n",
              "    <tr>\n",
              "      <th>4</th>\n",
              "      <td>1982</td>\n",
              "      <td>57.79935437</td>\n",
              "      <td>-163.73097090000002</td>\n",
              "      <td>POINT (-163.73097 57.79935)</td>\n",
              "    </tr>\n",
              "    <tr>\n",
              "      <th>...</th>\n",
              "      <td>...</td>\n",
              "      <td>...</td>\n",
              "      <td>...</td>\n",
              "      <td>...</td>\n",
              "    </tr>\n",
              "    <tr>\n",
              "      <th>887</th>\n",
              "      <td>2019</td>\n",
              "      <td>29.090959</td>\n",
              "      <td>-89.92895515</td>\n",
              "      <td>POINT (-89.92896 29.09096)</td>\n",
              "    </tr>\n",
              "    <tr>\n",
              "      <th>888</th>\n",
              "      <td>2019</td>\n",
              "      <td>28.20508004</td>\n",
              "      <td>-83.89902704</td>\n",
              "      <td>POINT (-83.89903 28.20508)</td>\n",
              "    </tr>\n",
              "    <tr>\n",
              "      <th>889</th>\n",
              "      <td>2019</td>\n",
              "      <td>28.35813331</td>\n",
              "      <td>-84.17405222</td>\n",
              "      <td>POINT (-84.17405 28.35813)</td>\n",
              "    </tr>\n",
              "    <tr>\n",
              "      <th>890</th>\n",
              "      <td>2019</td>\n",
              "      <td>27.85687104</td>\n",
              "      <td>-83.67990742</td>\n",
              "      <td>POINT (-83.67991 27.85687)</td>\n",
              "    </tr>\n",
              "    <tr>\n",
              "      <th>891</th>\n",
              "      <td>2019</td>\n",
              "      <td>28.00426576</td>\n",
              "      <td>-86.8507671</td>\n",
              "      <td>POINT (-86.85077 28.00427)</td>\n",
              "    </tr>\n",
              "  </tbody>\n",
              "</table>\n",
              "<p>892 rows × 4 columns</p>\n",
              "</div>"
            ],
            "text/plain": [
              "     Year     Latitude            Longitude                     geometry\n",
              "0    1977  44.62206921  -124.58627140000002  POINT (-124.58627 44.62207)\n",
              "1    1977  44.35009805  -124.61739909999999  POINT (-124.61740 44.35010)\n",
              "2    1977  41.14166904  -124.02244679999998  POINT (-124.02245 41.14167)\n",
              "3    1980  47.58743088  -125.03713729999998  POINT (-125.03714 47.58743)\n",
              "4    1982  57.79935437  -163.73097090000002  POINT (-163.73097 57.79935)\n",
              "..    ...          ...                  ...                          ...\n",
              "887  2019    29.090959         -89.92895515   POINT (-89.92896 29.09096)\n",
              "888  2019  28.20508004         -83.89902704   POINT (-83.89903 28.20508)\n",
              "889  2019  28.35813331         -84.17405222   POINT (-84.17405 28.35813)\n",
              "890  2019  27.85687104         -83.67990742   POINT (-83.67991 27.85687)\n",
              "891  2019  28.00426576          -86.8507671   POINT (-86.85077 28.00427)\n",
              "\n",
              "[892 rows x 4 columns]"
            ]
          },
          "metadata": {
            "tags": []
          },
          "execution_count": 20
        }
      ]
    },
    {
      "cell_type": "code",
      "metadata": {
        "colab": {
          "base_uri": "https://localhost:8080/",
          "height": 279
        },
        "id": "4YFl4gmDY-y7",
        "outputId": "e80c55ff-3434-4184-8e19-2bf0b13d8e1a"
      },
      "source": [
        "# Create visualization of latitude over time.\n",
        "x = shrimp_filtered[\"Year\"]\n",
        "y = shrimp_filtered[\"Latitude\"]\n",
        "plt.scatter(x,y)\n",
        "plt.xlabel(\"Year\")\n",
        "plt.ylabel(\"Degrees North\")\n",
        "plt.show()"
      ],
      "execution_count": 19,
      "outputs": [
        {
          "output_type": "display_data",
          "data": {
            "image/png": "[encoded data removed]",
            "text/plain": [
              "<Figure size 432x288 with 1 Axes>"
            ]
          },
          "metadata": {
            "tags": [],
            "needs_background": "light"
          }
        }
      ]
    },
    {
      "cell_type": "code",
      "metadata": {
        "id": "oZBn6SjxZrHA"
      },
      "source": [
        ""
      ],
      "execution_count": null,
      "outputs": []
    }
  ]
}